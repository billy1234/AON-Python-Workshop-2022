{
 "cells": [
  {
   "cell_type": "code",
   "execution_count": 11,
   "id": "462abcfd",
   "metadata": {},
   "outputs": [],
   "source": [
    "import pandas"
   ]
  },
  {
   "cell_type": "code",
   "execution_count": 12,
   "id": "759ccc59",
   "metadata": {},
   "outputs": [],
   "source": [
    "list_a = [1,2,3,4,5]"
   ]
  },
  {
   "cell_type": "code",
   "execution_count": 15,
   "id": "f17ad5bd",
   "metadata": {},
   "outputs": [],
   "source": [
    "result = []\n",
    "\n",
    "for elem in list_a:\n",
    "    if (elem % 2) == 1:\n",
    "        result.append(elem)"
   ]
  },
  {
   "cell_type": "code",
   "execution_count": 16,
   "id": "11aab612",
   "metadata": {},
   "outputs": [
    {
     "name": "stdout",
     "output_type": "stream",
     "text": [
      "[1, 3, 5]\n"
     ]
    }
   ],
   "source": [
    "print(result)"
   ]
  },
  {
   "cell_type": "code",
   "execution_count": null,
   "id": "4395d30f",
   "metadata": {},
   "outputs": [],
   "source": []
  },
  {
   "cell_type": "code",
   "execution_count": 19,
   "id": "0c198651",
   "metadata": {},
   "outputs": [],
   "source": [
    "result_2 = []\n",
    "\n",
    "for elem in result:\n",
    "    result_2.append(elem * 2)"
   ]
  },
  {
   "cell_type": "code",
   "execution_count": 20,
   "id": "9bc61f19",
   "metadata": {},
   "outputs": [
    {
     "name": "stdout",
     "output_type": "stream",
     "text": [
      "[2, 6, 10]\n"
     ]
    }
   ],
   "source": [
    "print(result_2)"
   ]
  },
  {
   "cell_type": "code",
   "execution_count": 26,
   "id": "ee174314",
   "metadata": {},
   "outputs": [
    {
     "name": "stdout",
     "output_type": "stream",
     "text": [
      "[1, 3, 5]\n"
     ]
    }
   ],
   "source": [
    "print(list(filter(lambda elem : (elem % 2) == 1,list_a)))"
   ]
  },
  {
   "cell_type": "code",
   "execution_count": 25,
   "id": "22f797db",
   "metadata": {},
   "outputs": [
    {
     "name": "stdout",
     "output_type": "stream",
     "text": [
      "[2, 4, 6, 8, 10]\n"
     ]
    }
   ],
   "source": [
    "print(list(map(lambda elem : elem * 2,list_a)))"
   ]
  },
  {
   "cell_type": "code",
   "execution_count": null,
   "id": "6c3c4d46",
   "metadata": {},
   "outputs": [],
   "source": []
  }
 ],
 "metadata": {
  "kernelspec": {
   "display_name": "Python 3 (ipykernel)",
   "language": "python",
   "name": "python3"
  },
  "language_info": {
   "codemirror_mode": {
    "name": "ipython",
    "version": 3
   },
   "file_extension": ".py",
   "mimetype": "text/x-python",
   "name": "python",
   "nbconvert_exporter": "python",
   "pygments_lexer": "ipython3",
   "version": "3.10.6"
  }
 },
 "nbformat": 4,
 "nbformat_minor": 5
}
