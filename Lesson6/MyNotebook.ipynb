{
 "cells": [
  {
   "cell_type": "code",
   "execution_count": 48,
   "id": "3a00ee2a",
   "metadata": {},
   "outputs": [],
   "source": [
    "import pandas as pd\n",
    "import datetime"
   ]
  },
  {
   "cell_type": "code",
   "execution_count": 16,
   "id": "631fb46d",
   "metadata": {},
   "outputs": [
    {
     "data": {
      "text/html": [
       "<div>\n",
       "<style scoped>\n",
       "    .dataframe tbody tr th:only-of-type {\n",
       "        vertical-align: middle;\n",
       "    }\n",
       "\n",
       "    .dataframe tbody tr th {\n",
       "        vertical-align: top;\n",
       "    }\n",
       "\n",
       "    .dataframe thead th {\n",
       "        text-align: right;\n",
       "    }\n",
       "</style>\n",
       "<table border=\"1\" class=\"dataframe\">\n",
       "  <thead>\n",
       "    <tr style=\"text-align: right;\">\n",
       "      <th></th>\n",
       "      <th>col1</th>\n",
       "      <th>col2</th>\n",
       "      <th>col3</th>\n",
       "    </tr>\n",
       "  </thead>\n",
       "  <tbody>\n",
       "    <tr>\n",
       "      <th>0</th>\n",
       "      <td>1</td>\n",
       "      <td>3.5</td>\n",
       "      <td>a</td>\n",
       "    </tr>\n",
       "    <tr>\n",
       "      <th>1</th>\n",
       "      <td>2</td>\n",
       "      <td>4.5</td>\n",
       "      <td>a</td>\n",
       "    </tr>\n",
       "  </tbody>\n",
       "</table>\n",
       "</div>"
      ],
      "text/plain": [
       "   col1  col2 col3\n",
       "0     1   3.5    a\n",
       "1     2   4.5    a"
      ]
     },
     "execution_count": 16,
     "metadata": {},
     "output_type": "execute_result"
    }
   ],
   "source": [
    "d = {'col1': [1, 2], 'col2': [3.5, 4.5],'col3':[\"a\",\"a\"]}\n",
    "df = pd.DataFrame(data=d)\n",
    "df"
   ]
  },
  {
   "cell_type": "code",
   "execution_count": 17,
   "id": "bfb63275",
   "metadata": {},
   "outputs": [
    {
     "data": {
      "text/plain": [
       "col1      int64\n",
       "col2    float64\n",
       "col3     object\n",
       "dtype: object"
      ]
     },
     "execution_count": 17,
     "metadata": {},
     "output_type": "execute_result"
    }
   ],
   "source": [
    "df.dtypes"
   ]
  },
  {
   "cell_type": "code",
   "execution_count": 25,
   "id": "11ae56bb",
   "metadata": {},
   "outputs": [],
   "source": [
    "df = pd.read_csv('financial-data.csv')"
   ]
  },
  {
   "cell_type": "code",
   "execution_count": 28,
   "id": "6f256ef3",
   "metadata": {},
   "outputs": [
    {
     "data": {
      "text/html": [
       "<div>\n",
       "<style scoped>\n",
       "    .dataframe tbody tr th:only-of-type {\n",
       "        vertical-align: middle;\n",
       "    }\n",
       "\n",
       "    .dataframe tbody tr th {\n",
       "        vertical-align: top;\n",
       "    }\n",
       "\n",
       "    .dataframe thead th {\n",
       "        text-align: right;\n",
       "    }\n",
       "</style>\n",
       "<table border=\"1\" class=\"dataframe\">\n",
       "  <thead>\n",
       "    <tr style=\"text-align: right;\">\n",
       "      <th></th>\n",
       "      <th>Series_reference</th>\n",
       "      <th>Period</th>\n",
       "      <th>Data_value</th>\n",
       "      <th>Suppressed</th>\n",
       "      <th>STATUS</th>\n",
       "      <th>UNITS</th>\n",
       "      <th>Magnitude</th>\n",
       "      <th>Subject</th>\n",
       "      <th>Group</th>\n",
       "      <th>Series_title_1</th>\n",
       "      <th>Series_title_2</th>\n",
       "      <th>Series_title_3</th>\n",
       "      <th>Series_title_4</th>\n",
       "      <th>Series_title_5</th>\n",
       "    </tr>\n",
       "  </thead>\n",
       "  <tbody>\n",
       "    <tr>\n",
       "      <th>5950</th>\n",
       "      <td>BDCQ.SF8RSCA</td>\n",
       "      <td>2021.06</td>\n",
       "      <td>635.931</td>\n",
       "      <td>NaN</td>\n",
       "      <td>F</td>\n",
       "      <td>Dollars</td>\n",
       "      <td>6</td>\n",
       "      <td>Business Data Collection - BDC</td>\n",
       "      <td>Industry by financial variable (NZSIOC Level 1)</td>\n",
       "      <td>Operating profit</td>\n",
       "      <td>Arts, Recreation and Other Services</td>\n",
       "      <td>Current</td>\n",
       "      <td>Unadjusted</td>\n",
       "      <td>NaN</td>\n",
       "    </tr>\n",
       "    <tr>\n",
       "      <th>5951</th>\n",
       "      <td>BDCQ.SF8RSCA</td>\n",
       "      <td>2021.09</td>\n",
       "      <td>382.195</td>\n",
       "      <td>NaN</td>\n",
       "      <td>F</td>\n",
       "      <td>Dollars</td>\n",
       "      <td>6</td>\n",
       "      <td>Business Data Collection - BDC</td>\n",
       "      <td>Industry by financial variable (NZSIOC Level 1)</td>\n",
       "      <td>Operating profit</td>\n",
       "      <td>Arts, Recreation and Other Services</td>\n",
       "      <td>Current</td>\n",
       "      <td>Unadjusted</td>\n",
       "      <td>NaN</td>\n",
       "    </tr>\n",
       "    <tr>\n",
       "      <th>5952</th>\n",
       "      <td>BDCQ.SF8RSCA</td>\n",
       "      <td>2021.12</td>\n",
       "      <td>397.184</td>\n",
       "      <td>NaN</td>\n",
       "      <td>F</td>\n",
       "      <td>Dollars</td>\n",
       "      <td>6</td>\n",
       "      <td>Business Data Collection - BDC</td>\n",
       "      <td>Industry by financial variable (NZSIOC Level 1)</td>\n",
       "      <td>Operating profit</td>\n",
       "      <td>Arts, Recreation and Other Services</td>\n",
       "      <td>Current</td>\n",
       "      <td>Unadjusted</td>\n",
       "      <td>NaN</td>\n",
       "    </tr>\n",
       "    <tr>\n",
       "      <th>5953</th>\n",
       "      <td>BDCQ.SF8RSCA</td>\n",
       "      <td>2022.03</td>\n",
       "      <td>493.945</td>\n",
       "      <td>NaN</td>\n",
       "      <td>F</td>\n",
       "      <td>Dollars</td>\n",
       "      <td>6</td>\n",
       "      <td>Business Data Collection - BDC</td>\n",
       "      <td>Industry by financial variable (NZSIOC Level 1)</td>\n",
       "      <td>Operating profit</td>\n",
       "      <td>Arts, Recreation and Other Services</td>\n",
       "      <td>Current</td>\n",
       "      <td>Unadjusted</td>\n",
       "      <td>NaN</td>\n",
       "    </tr>\n",
       "    <tr>\n",
       "      <th>5954</th>\n",
       "      <td>BDCQ.SF8RSCA</td>\n",
       "      <td>2022.06</td>\n",
       "      <td>613.758</td>\n",
       "      <td>NaN</td>\n",
       "      <td>F</td>\n",
       "      <td>Dollars</td>\n",
       "      <td>6</td>\n",
       "      <td>Business Data Collection - BDC</td>\n",
       "      <td>Industry by financial variable (NZSIOC Level 1)</td>\n",
       "      <td>Operating profit</td>\n",
       "      <td>Arts, Recreation and Other Services</td>\n",
       "      <td>Current</td>\n",
       "      <td>Unadjusted</td>\n",
       "      <td>NaN</td>\n",
       "    </tr>\n",
       "  </tbody>\n",
       "</table>\n",
       "</div>"
      ],
      "text/plain": [
       "     Series_reference   Period  Data_value Suppressed STATUS    UNITS  \\\n",
       "5950     BDCQ.SF8RSCA  2021.06     635.931        NaN      F  Dollars   \n",
       "5951     BDCQ.SF8RSCA  2021.09     382.195        NaN      F  Dollars   \n",
       "5952     BDCQ.SF8RSCA  2021.12     397.184        NaN      F  Dollars   \n",
       "5953     BDCQ.SF8RSCA  2022.03     493.945        NaN      F  Dollars   \n",
       "5954     BDCQ.SF8RSCA  2022.06     613.758        NaN      F  Dollars   \n",
       "\n",
       "      Magnitude                         Subject  \\\n",
       "5950          6  Business Data Collection - BDC   \n",
       "5951          6  Business Data Collection - BDC   \n",
       "5952          6  Business Data Collection - BDC   \n",
       "5953          6  Business Data Collection - BDC   \n",
       "5954          6  Business Data Collection - BDC   \n",
       "\n",
       "                                                Group    Series_title_1  \\\n",
       "5950  Industry by financial variable (NZSIOC Level 1)  Operating profit   \n",
       "5951  Industry by financial variable (NZSIOC Level 1)  Operating profit   \n",
       "5952  Industry by financial variable (NZSIOC Level 1)  Operating profit   \n",
       "5953  Industry by financial variable (NZSIOC Level 1)  Operating profit   \n",
       "5954  Industry by financial variable (NZSIOC Level 1)  Operating profit   \n",
       "\n",
       "                           Series_title_2 Series_title_3 Series_title_4  \\\n",
       "5950  Arts, Recreation and Other Services        Current     Unadjusted   \n",
       "5951  Arts, Recreation and Other Services        Current     Unadjusted   \n",
       "5952  Arts, Recreation and Other Services        Current     Unadjusted   \n",
       "5953  Arts, Recreation and Other Services        Current     Unadjusted   \n",
       "5954  Arts, Recreation and Other Services        Current     Unadjusted   \n",
       "\n",
       "      Series_title_5  \n",
       "5950             NaN  \n",
       "5951             NaN  \n",
       "5952             NaN  \n",
       "5953             NaN  \n",
       "5954             NaN  "
      ]
     },
     "execution_count": 28,
     "metadata": {},
     "output_type": "execute_result"
    }
   ],
   "source": [
    "df.tail()"
   ]
  },
  {
   "cell_type": "code",
   "execution_count": 31,
   "id": "ccb089aa",
   "metadata": {},
   "outputs": [
    {
     "data": {
      "text/plain": [
       "pandas.core.series.Series"
      ]
     },
     "execution_count": 31,
     "metadata": {},
     "output_type": "execute_result"
    }
   ],
   "source": [
    "type(df['Period'])"
   ]
  },
  {
   "cell_type": "code",
   "execution_count": 32,
   "id": "60389e67",
   "metadata": {},
   "outputs": [
    {
     "data": {
      "text/plain": [
       "pandas.core.frame.DataFrame"
      ]
     },
     "execution_count": 32,
     "metadata": {},
     "output_type": "execute_result"
    }
   ],
   "source": [
    "type(df)"
   ]
  },
  {
   "cell_type": "code",
   "execution_count": 38,
   "id": "746b199a",
   "metadata": {},
   "outputs": [
    {
     "data": {
      "text/plain": [
       "(5955, 14)"
      ]
     },
     "execution_count": 38,
     "metadata": {},
     "output_type": "execute_result"
    }
   ],
   "source": [
    "df.dtypes"
   ]
  },
  {
   "cell_type": "code",
   "execution_count": 34,
   "id": "ee2839f6",
   "metadata": {},
   "outputs": [
    {
     "data": {
      "text/html": [
       "<div>\n",
       "<style scoped>\n",
       "    .dataframe tbody tr th:only-of-type {\n",
       "        vertical-align: middle;\n",
       "    }\n",
       "\n",
       "    .dataframe tbody tr th {\n",
       "        vertical-align: top;\n",
       "    }\n",
       "\n",
       "    .dataframe thead th {\n",
       "        text-align: right;\n",
       "    }\n",
       "</style>\n",
       "<table border=\"1\" class=\"dataframe\">\n",
       "  <thead>\n",
       "    <tr style=\"text-align: right;\">\n",
       "      <th></th>\n",
       "      <th>Period</th>\n",
       "      <th>Data_value</th>\n",
       "      <th>Magnitude</th>\n",
       "      <th>Series_title_5</th>\n",
       "    </tr>\n",
       "  </thead>\n",
       "  <tbody>\n",
       "    <tr>\n",
       "      <th>count</th>\n",
       "      <td>5955.000000</td>\n",
       "      <td>5600.000000</td>\n",
       "      <td>5955.0</td>\n",
       "      <td>0.0</td>\n",
       "    </tr>\n",
       "    <tr>\n",
       "      <th>mean</th>\n",
       "      <td>2018.973159</td>\n",
       "      <td>4725.778359</td>\n",
       "      <td>6.0</td>\n",
       "      <td>NaN</td>\n",
       "    </tr>\n",
       "    <tr>\n",
       "      <th>std</th>\n",
       "      <td>1.827219</td>\n",
       "      <td>6886.030728</td>\n",
       "      <td>0.0</td>\n",
       "      <td>NaN</td>\n",
       "    </tr>\n",
       "    <tr>\n",
       "      <th>min</th>\n",
       "      <td>2016.060000</td>\n",
       "      <td>-398.194000</td>\n",
       "      <td>6.0</td>\n",
       "      <td>NaN</td>\n",
       "    </tr>\n",
       "    <tr>\n",
       "      <th>25%</th>\n",
       "      <td>2017.120000</td>\n",
       "      <td>657.659750</td>\n",
       "      <td>6.0</td>\n",
       "      <td>NaN</td>\n",
       "    </tr>\n",
       "    <tr>\n",
       "      <th>50%</th>\n",
       "      <td>2019.060000</td>\n",
       "      <td>2110.092000</td>\n",
       "      <td>6.0</td>\n",
       "      <td>NaN</td>\n",
       "    </tr>\n",
       "    <tr>\n",
       "      <th>75%</th>\n",
       "      <td>2020.120000</td>\n",
       "      <td>4502.628250</td>\n",
       "      <td>6.0</td>\n",
       "      <td>NaN</td>\n",
       "    </tr>\n",
       "    <tr>\n",
       "      <th>max</th>\n",
       "      <td>2022.060000</td>\n",
       "      <td>37508.973000</td>\n",
       "      <td>6.0</td>\n",
       "      <td>NaN</td>\n",
       "    </tr>\n",
       "  </tbody>\n",
       "</table>\n",
       "</div>"
      ],
      "text/plain": [
       "            Period    Data_value  Magnitude  Series_title_5\n",
       "count  5955.000000   5600.000000     5955.0             0.0\n",
       "mean   2018.973159   4725.778359        6.0             NaN\n",
       "std       1.827219   6886.030728        0.0             NaN\n",
       "min    2016.060000   -398.194000        6.0             NaN\n",
       "25%    2017.120000    657.659750        6.0             NaN\n",
       "50%    2019.060000   2110.092000        6.0             NaN\n",
       "75%    2020.120000   4502.628250        6.0             NaN\n",
       "max    2022.060000  37508.973000        6.0             NaN"
      ]
     },
     "execution_count": 34,
     "metadata": {},
     "output_type": "execute_result"
    }
   ],
   "source": [
    "df.describe()"
   ]
  },
  {
   "cell_type": "code",
   "execution_count": 36,
   "id": "ac7ab810",
   "metadata": {},
   "outputs": [
    {
     "data": {
      "text/plain": [
       "4725.778359285714"
      ]
     },
     "execution_count": 36,
     "metadata": {},
     "output_type": "execute_result"
    }
   ],
   "source": [
    "df['Data_value'].mean()"
   ]
  },
  {
   "cell_type": "code",
   "execution_count": 37,
   "id": "c3543329",
   "metadata": {},
   "outputs": [
    {
     "data": {
      "text/plain": [
       "6886.030727838974"
      ]
     },
     "execution_count": 37,
     "metadata": {},
     "output_type": "execute_result"
    }
   ],
   "source": [
    "df['Data_value'].std()"
   ]
  },
  {
   "cell_type": "code",
   "execution_count": 41,
   "id": "a75082d8",
   "metadata": {},
   "outputs": [
    {
     "data": {
      "text/plain": [
       "0       2016.06\n",
       "1       2016.09\n",
       "2       2016.12\n",
       "3       2017.03\n",
       "4       2017.06\n",
       "         ...   \n",
       "5950    2021.06\n",
       "5951    2021.09\n",
       "5952    2021.12\n",
       "5953    2022.03\n",
       "5954    2022.06\n",
       "Name: Period, Length: 5955, dtype: float64"
      ]
     },
     "execution_count": 41,
     "metadata": {},
     "output_type": "execute_result"
    }
   ],
   "source": [
    "df['Period']"
   ]
  },
  {
   "cell_type": "code",
   "execution_count": 103,
   "id": "a6b37b33",
   "metadata": {},
   "outputs": [],
   "source": [
    "def float_to_date(x):\n",
    "    datetime.date(\n",
    "        int(str(x)[0:4]),\n",
    "        int(str(x)[5:7]),\n",
    "        1\n",
    "    )"
   ]
  },
  {
   "cell_type": "code",
   "execution_count": 89,
   "id": "a82449f8",
   "metadata": {},
   "outputs": [
    {
     "data": {
      "text/plain": [
       "<function __main__.<lambda>(x)>"
      ]
     },
     "execution_count": 89,
     "metadata": {},
     "output_type": "execute_result"
    }
   ],
   "source": [
    "lambda x : datetime.date(int(str(x)[0:4]),int(str(x)[5:7]),1)"
   ]
  },
  {
   "cell_type": "code",
   "execution_count": 101,
   "id": "2f096e58",
   "metadata": {},
   "outputs": [],
   "source": [
    "df['Period_Date'] = df['Period'].map(float_to_date)"
   ]
  },
  {
   "cell_type": "code",
   "execution_count": 102,
   "id": "820ce6cc",
   "metadata": {},
   "outputs": [
    {
     "data": {
      "text/plain": [
       "0       None\n",
       "1       None\n",
       "2       None\n",
       "3       None\n",
       "4       None\n",
       "        ... \n",
       "5950    None\n",
       "5951    None\n",
       "5952    None\n",
       "5953    None\n",
       "5954    None\n",
       "Name: Period_Date, Length: 5955, dtype: object"
      ]
     },
     "execution_count": 102,
     "metadata": {},
     "output_type": "execute_result"
    }
   ],
   "source": [
    "df['Period_Date']"
   ]
  },
  {
   "cell_type": "code",
   "execution_count": null,
   "id": "f6f0e6c1",
   "metadata": {},
   "outputs": [],
   "source": []
  }
 ],
 "metadata": {
  "kernelspec": {
   "display_name": "Python 3.10.6 64-bit",
   "language": "python",
   "name": "python3"
  },
  "language_info": {
   "codemirror_mode": {
    "name": "ipython",
    "version": 3
   },
   "file_extension": ".py",
   "mimetype": "text/x-python",
   "name": "python",
   "nbconvert_exporter": "python",
   "pygments_lexer": "ipython3",
   "version": "3.10.6"
  },
  "vscode": {
   "interpreter": {
    "hash": "369f2c481f4da34e4445cda3fffd2e751bd1c4d706f27375911949ba6bb62e1c"
   }
  }
 },
 "nbformat": 4,
 "nbformat_minor": 5
}
